{
  "nbformat": 4,
  "nbformat_minor": 0,
  "metadata": {
    "colab": {
      "provenance": [],
      "include_colab_link": true
    },
    "kernelspec": {
      "name": "python3",
      "display_name": "Python 3"
    },
    "language_info": {
      "name": "python"
    }
  },
  "cells": [
    {
      "cell_type": "markdown",
      "metadata": {
        "id": "view-in-github",
        "colab_type": "text"
      },
      "source": [
        "<a href=\"https://colab.research.google.com/github/rajbeer1/aks/blob/main/Assignment1_Quantum.ipynb\" target=\"_parent\"><img src=\"https://colab.research.google.com/assets/colab-badge.svg\" alt=\"Open In Colab\"/></a>"
      ]
    },
    {
      "cell_type": "markdown",
      "source": [
        "## Section 1"
      ],
      "metadata": {
        "id": "LR_ykwdH7eyl"
      }
    },
    {
      "cell_type": "code",
      "execution_count": 1,
      "metadata": {
        "colab": {
          "base_uri": "https://localhost:8080/"
        },
        "id": "3zU0-wfx7ZSm",
        "outputId": "8c215150-2123-4c96-ee8c-f6a044be78a4"
      },
      "outputs": [
        {
          "output_type": "stream",
          "name": "stdout",
          "text": [
            " normalised\n",
            "Length  0.9999999999999999\n"
          ]
        }
      ],
      "source": [
        "import numpy as np\n",
        "import math\n",
        "\n",
        "a = 1/math.sqrt(2)\n",
        "b = 1/math.sqrt(2)\n",
        "\n",
        "vector = np.array([a,b])\n",
        "\n",
        "mag_sq = sum(k**2 for k in vector)\n",
        "mag = math.sqrt(mag_sq)\n",
        "\n",
        "if(np.isclose(mag,1)):\n",
        "  print(\" normalised\")\n",
        "else:\n",
        "  print(\" not normalised\")\n",
        "\n",
        "# printing length of vector\n",
        "print(\"Length \", mag)\n"
      ]
    },
    {
      "cell_type": "markdown",
      "source": [
        "## Section 2"
      ],
      "metadata": {
        "id": "pGiE1KoO-ioB"
      }
    },
    {
      "cell_type": "code",
      "source": [
        "def createVector():\n",
        "    e = input(\"Enter elements separated by spaces: \")\n",
        "    vector = list(float(item) for item in e.split())\n",
        "    return vector\n",
        "\n",
        "def isNormalised(vector):\n",
        "    mag_sq = sum(k**2 for k in vector)\n",
        "    mag = math.sqrt(mag_sq)\n",
        "    return np.isclose(mag, 1)\n",
        "\n",
        "def dotProduct(v1, v2):\n",
        "    return np.dot(v1, v2)\n",
        "\n",
        "def crossProduct(v1, v2):\n",
        "    return np.cross(v1, v2)\n",
        "\n",
        "def unitVector(vector):\n",
        "    mag_sq = sum(k**2 for k in vector)\n",
        "    mag = math.sqrt(mag_sq)\n",
        "    return np.array(vector) / mag\n",
        "\n",
        "v1 = createVector()\n",
        "v2 = createVector()\n",
        "\n",
        "if isNormalised(v1):\n",
        "    print(\"normalised\")\n",
        "else:\n",
        "    print(\" not normalised\")\n",
        "\n",
        "print(\"Dot product:\", dotProduct(v1, v2))\n",
        "print(\"Cross product:\", crossProduct(v1, v2))\n",
        "print(\"Unit Vector:\", unitVector(v1))"
      ],
      "metadata": {
        "colab": {
          "base_uri": "https://localhost:8080/"
        },
        "id": "kVR4gX9Q-jcE",
        "outputId": "b1427a5b-3a0d-4dcc-f3cb-aac4489f73e5"
      },
      "execution_count": 2,
      "outputs": [
        {
          "output_type": "stream",
          "name": "stdout",
          "text": [
            "Enter elements separated by spaces: 5 6 8 \n",
            "Enter elements separated by spaces: 6 7 8 \n",
            " not normalised\n",
            "Dot product: 136.0\n",
            "Cross product: [-8.  8. -1.]\n",
            "Unit Vector: [0.4472136  0.53665631 0.71554175]\n"
          ]
        }
      ]
    },
    {
      "cell_type": "markdown",
      "source": [
        "## Section 3"
      ],
      "metadata": {
        "id": "OXmeNMfuBjWG"
      }
    },
    {
      "cell_type": "code",
      "source": [
        "def createMatrix():\n",
        "    rows = int(input(\"Enter the number of rows: \"))\n",
        "    cols = int(input(\"Enter the number of columns: \"))\n",
        "\n",
        "    matrix = []\n",
        "    for i in range(rows):\n",
        "        row = list(map(float, input(f\"Enter elements for row {i + 1} separated by spaces: \").split()))\n",
        "        matrix.append(row)\n",
        "\n",
        "    return np.array(matrix)\n",
        "\n",
        "matrix = createMatrix()\n",
        "\n",
        "transpose = np.transpose(matrix)\n",
        "determinant = np.linalg.det(matrix)\n",
        "rank = np.linalg.matrix_rank(matrix)\n",
        "trace = np.trace(matrix)\n",
        "eigenvalues, eigenvectors = np.linalg.eig(matrix)\n",
        "inverse = np.linalg.inv(matrix)\n",
        "\n",
        "print(\"Original Matrix:\")\n",
        "print(matrix)\n",
        "\n",
        "print(\"\\nTranspose Matrix:\")\n",
        "print(transpose)\n",
        "\n",
        "print(\"\\nDeterminant of the Matrix:\", determinant)\n",
        "\n",
        "print(\"\\nRank of the Matrix:\", rank)\n",
        "\n",
        "print(\"\\nTrace of the Matrix:\", trace)\n",
        "\n",
        "print(\"\\nEigenvalues:\")\n",
        "print(eigenvalues)\n",
        "\n",
        "print(\"\\nEigenvectors:\")\n",
        "print(eigenvectors)\n",
        "\n",
        "print(\"\\nInverse of the Matrix:\")\n",
        "print(inverse)\n"
      ],
      "metadata": {
        "colab": {
          "base_uri": "https://localhost:8080/"
        },
        "id": "gp2ObgoP-2j4",
        "outputId": "e0181b20-d045-4585-8827-4dd77578b785"
      },
      "execution_count": 5,
      "outputs": [
        {
          "output_type": "stream",
          "name": "stdout",
          "text": [
            "Enter the number of rows: 3\n",
            "Enter the number of columns: 3\n",
            "Enter elements for row 1 separated by spaces: 12 55 67\n",
            "Enter elements for row 2 separated by spaces: 34 56 78 \n",
            "Enter elements for row 3 separated by spaces: 34 56 99 \n",
            "Original Matrix:\n",
            "[[12. 55. 67.]\n",
            " [34. 56. 78.]\n",
            " [34. 56. 99.]]\n",
            "\n",
            "Transpose Matrix:\n",
            "[[12. 34. 34.]\n",
            " [55. 56. 56.]\n",
            " [67. 78. 99.]]\n",
            "\n",
            "Determinant of the Matrix: -25158.00000000001\n",
            "\n",
            "Rank of the Matrix: 3\n",
            "\n",
            "Trace of the Matrix: 167.0\n",
            "\n",
            "Eigenvalues:\n",
            "[172.59820145 -15.19246443   9.59426299]\n",
            "\n",
            "Eigenvectors:\n",
            "[[-0.4747758  -0.94244469 -0.39679842]\n",
            " [-0.58080053  0.30830131 -0.70243699]\n",
            " [-0.66125538  0.12941525  0.59087503]]\n",
            "\n",
            "Inverse of the Matrix:\n",
            "[[-0.04674457  0.0672947  -0.02138485]\n",
            " [ 0.02838063  0.04332618 -0.05334287]\n",
            " [ 0.         -0.04761905  0.04761905]]\n"
          ]
        }
      ]
    },
    {
      "cell_type": "markdown",
      "source": [
        "## Section 4"
      ],
      "metadata": {
        "id": "F1BhEOD-Cx0z"
      }
    },
    {
      "cell_type": "code",
      "source": [
        "def createCN():\n",
        "    real = float(input(\"Enter the real part: \"))\n",
        "    img = float(input(\"Enter the imaginary part: \"))\n",
        "\n",
        "    return complex(real, img)\n",
        "\n",
        "c1 = createCN()\n",
        "c2 = createCN()\n",
        "\n",
        "conjugate_num = np.conjugate(c1)\n",
        "\n",
        "add = c1 + c2\n",
        "subtract=  c1 - c2\n",
        "multiply = c1 * c2\n",
        "\n",
        "if c2 != 0:\n",
        "    divide = c1/c2\n",
        "else:\n",
        "    divide = \"Cannot divide by zero.\"\n",
        "\n",
        "complex_as_vector = np.array([c1.real, c1.imag])\n",
        "\n",
        "mag = np.abs(c1)\n",
        "\n",
        "print(\"Complex Number:\")\n",
        "print(c1)\n",
        "\n",
        "print(\"\\nComplex Conjugate:\")\n",
        "print(conjugate_num)\n",
        "\n",
        "print(\"\\nAddition Result:\")\n",
        "print(add)\n",
        "\n",
        "print(\"\\nSubtraction Result:\")\n",
        "print(subtract)\n",
        "\n",
        "print(\"\\nMultiplication Result:\")\n",
        "print(multiply)\n",
        "\n",
        "print(\"\\nDivision Result:\")\n",
        "print(divide)\n",
        "\n",
        "print(\"\\nComplex Number as a 2D Vector:\")\n",
        "print(complex_as_vector)\n",
        "\n",
        "print(\"\\nMagnitude of the Complex Number:\")\n",
        "print(mag)\n"
      ],
      "metadata": {
        "colab": {
          "base_uri": "https://localhost:8080/"
        },
        "id": "1k5Rt7EVB96s",
        "outputId": "cd09d9b6-a924-4c34-bd1d-64ddb2d52c6e"
      },
      "execution_count": 6,
      "outputs": [
        {
          "output_type": "stream",
          "name": "stdout",
          "text": [
            "Enter the real part: 4\n",
            "Enter the imaginary part: 5\n",
            "Enter the real part: 4\n",
            "Enter the imaginary part: 8\n",
            "Complex Number:\n",
            "(4+5j)\n",
            "\n",
            "Complex Conjugate:\n",
            "(4-5j)\n",
            "\n",
            "Addition Result:\n",
            "(8+13j)\n",
            "\n",
            "Subtraction Result:\n",
            "-3j\n",
            "\n",
            "Multiplication Result:\n",
            "(-24+52j)\n",
            "\n",
            "Division Result:\n",
            "(0.7-0.15j)\n",
            "\n",
            "Complex Number as a 2D Vector:\n",
            "[4. 5.]\n",
            "\n",
            "Magnitude of the Complex Number:\n",
            "6.4031242374328485\n"
          ]
        }
      ]
    }
  ]
}